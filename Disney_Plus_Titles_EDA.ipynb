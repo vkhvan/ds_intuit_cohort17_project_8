{
 "cells": [
  {
   "cell_type": "code",
   "execution_count": 14,
   "id": "29c6b28f",
   "metadata": {},
   "outputs": [],
   "source": [
    "import pandas as pd\n",
    "import plotly as pl\n",
    "import seaborn as sb"
   ]
  },
  {
   "cell_type": "code",
   "execution_count": 10,
   "id": "0cee0803",
   "metadata": {},
   "outputs": [],
   "source": [
    "dataset = pd.read_csv(\"data/disney_plus_titles.csv\")"
   ]
  },
  {
   "cell_type": "code",
   "execution_count": 11,
   "id": "279571db",
   "metadata": {},
   "outputs": [
    {
     "data": {
      "text/html": [
       "<div>\n",
       "<style scoped>\n",
       "    .dataframe tbody tr th:only-of-type {\n",
       "        vertical-align: middle;\n",
       "    }\n",
       "\n",
       "    .dataframe tbody tr th {\n",
       "        vertical-align: top;\n",
       "    }\n",
       "\n",
       "    .dataframe thead th {\n",
       "        text-align: right;\n",
       "    }\n",
       "</style>\n",
       "<table border=\"1\" class=\"dataframe\">\n",
       "  <thead>\n",
       "    <tr style=\"text-align: right;\">\n",
       "      <th></th>\n",
       "      <th>show_id</th>\n",
       "      <th>type</th>\n",
       "      <th>title</th>\n",
       "      <th>director</th>\n",
       "      <th>cast</th>\n",
       "      <th>country</th>\n",
       "      <th>date_added</th>\n",
       "      <th>release_year</th>\n",
       "      <th>rating</th>\n",
       "      <th>duration</th>\n",
       "      <th>listed_in</th>\n",
       "      <th>description</th>\n",
       "    </tr>\n",
       "  </thead>\n",
       "  <tbody>\n",
       "    <tr>\n",
       "      <th>0</th>\n",
       "      <td>s1</td>\n",
       "      <td>Movie</td>\n",
       "      <td>Duck the Halls: A Mickey Mouse Christmas Special</td>\n",
       "      <td>Alonso Ramirez Ramos, Dave Wasson</td>\n",
       "      <td>Chris Diamantopoulos, Tony Anselmo, Tress MacN...</td>\n",
       "      <td>NaN</td>\n",
       "      <td>November 26, 2021</td>\n",
       "      <td>2016</td>\n",
       "      <td>TV-G</td>\n",
       "      <td>23 min</td>\n",
       "      <td>Animation, Family</td>\n",
       "      <td>Join Mickey and the gang as they duck the halls!</td>\n",
       "    </tr>\n",
       "    <tr>\n",
       "      <th>1</th>\n",
       "      <td>s2</td>\n",
       "      <td>Movie</td>\n",
       "      <td>Ernest Saves Christmas</td>\n",
       "      <td>John Cherry</td>\n",
       "      <td>Jim Varney, Noelle Parker, Douglas Seale</td>\n",
       "      <td>NaN</td>\n",
       "      <td>November 26, 2021</td>\n",
       "      <td>1988</td>\n",
       "      <td>PG</td>\n",
       "      <td>91 min</td>\n",
       "      <td>Comedy</td>\n",
       "      <td>Santa Claus passes his magic bag to a new St. ...</td>\n",
       "    </tr>\n",
       "    <tr>\n",
       "      <th>2</th>\n",
       "      <td>s3</td>\n",
       "      <td>Movie</td>\n",
       "      <td>Ice Age: A Mammoth Christmas</td>\n",
       "      <td>Karen Disher</td>\n",
       "      <td>Raymond Albert Romano, John Leguizamo, Denis L...</td>\n",
       "      <td>United States</td>\n",
       "      <td>November 26, 2021</td>\n",
       "      <td>2011</td>\n",
       "      <td>TV-G</td>\n",
       "      <td>23 min</td>\n",
       "      <td>Animation, Comedy, Family</td>\n",
       "      <td>Sid the Sloth is on Santa's naughty list.</td>\n",
       "    </tr>\n",
       "    <tr>\n",
       "      <th>3</th>\n",
       "      <td>s4</td>\n",
       "      <td>Movie</td>\n",
       "      <td>The Queen Family Singalong</td>\n",
       "      <td>Hamish Hamilton</td>\n",
       "      <td>Darren Criss, Adam Lambert, Derek Hough, Alexa...</td>\n",
       "      <td>NaN</td>\n",
       "      <td>November 26, 2021</td>\n",
       "      <td>2021</td>\n",
       "      <td>TV-PG</td>\n",
       "      <td>41 min</td>\n",
       "      <td>Musical</td>\n",
       "      <td>This is real life, not just fantasy!</td>\n",
       "    </tr>\n",
       "    <tr>\n",
       "      <th>4</th>\n",
       "      <td>s5</td>\n",
       "      <td>TV Show</td>\n",
       "      <td>The Beatles: Get Back</td>\n",
       "      <td>NaN</td>\n",
       "      <td>John Lennon, Paul McCartney, George Harrison, ...</td>\n",
       "      <td>NaN</td>\n",
       "      <td>November 25, 2021</td>\n",
       "      <td>2021</td>\n",
       "      <td>NaN</td>\n",
       "      <td>1 Season</td>\n",
       "      <td>Docuseries, Historical, Music</td>\n",
       "      <td>A three-part documentary from Peter Jackson ca...</td>\n",
       "    </tr>\n",
       "  </tbody>\n",
       "</table>\n",
       "</div>"
      ],
      "text/plain": [
       "  show_id     type                                             title  \\\n",
       "0      s1    Movie  Duck the Halls: A Mickey Mouse Christmas Special   \n",
       "1      s2    Movie                            Ernest Saves Christmas   \n",
       "2      s3    Movie                      Ice Age: A Mammoth Christmas   \n",
       "3      s4    Movie                        The Queen Family Singalong   \n",
       "4      s5  TV Show                             The Beatles: Get Back   \n",
       "\n",
       "                            director  \\\n",
       "0  Alonso Ramirez Ramos, Dave Wasson   \n",
       "1                        John Cherry   \n",
       "2                       Karen Disher   \n",
       "3                    Hamish Hamilton   \n",
       "4                                NaN   \n",
       "\n",
       "                                                cast        country  \\\n",
       "0  Chris Diamantopoulos, Tony Anselmo, Tress MacN...            NaN   \n",
       "1           Jim Varney, Noelle Parker, Douglas Seale            NaN   \n",
       "2  Raymond Albert Romano, John Leguizamo, Denis L...  United States   \n",
       "3  Darren Criss, Adam Lambert, Derek Hough, Alexa...            NaN   \n",
       "4  John Lennon, Paul McCartney, George Harrison, ...            NaN   \n",
       "\n",
       "          date_added  release_year rating  duration  \\\n",
       "0  November 26, 2021          2016   TV-G    23 min   \n",
       "1  November 26, 2021          1988     PG    91 min   \n",
       "2  November 26, 2021          2011   TV-G    23 min   \n",
       "3  November 26, 2021          2021  TV-PG    41 min   \n",
       "4  November 25, 2021          2021    NaN  1 Season   \n",
       "\n",
       "                       listed_in  \\\n",
       "0              Animation, Family   \n",
       "1                         Comedy   \n",
       "2      Animation, Comedy, Family   \n",
       "3                        Musical   \n",
       "4  Docuseries, Historical, Music   \n",
       "\n",
       "                                         description  \n",
       "0   Join Mickey and the gang as they duck the halls!  \n",
       "1  Santa Claus passes his magic bag to a new St. ...  \n",
       "2          Sid the Sloth is on Santa's naughty list.  \n",
       "3               This is real life, not just fantasy!  \n",
       "4  A three-part documentary from Peter Jackson ca...  "
      ]
     },
     "execution_count": 11,
     "metadata": {},
     "output_type": "execute_result"
    }
   ],
   "source": [
    "dataset.head()"
   ]
  },
  {
   "cell_type": "markdown",
   "id": "1f607e8c",
   "metadata": {},
   "source": [
    "### This dataset has 1450 rows in 12 columns"
   ]
  },
  {
   "cell_type": "code",
   "execution_count": 12,
   "id": "55082774",
   "metadata": {},
   "outputs": [
    {
     "data": {
      "text/plain": [
       "(1450, 12)"
      ]
     },
     "execution_count": 12,
     "metadata": {},
     "output_type": "execute_result"
    }
   ],
   "source": [
    "dataset.shape"
   ]
  },
  {
   "cell_type": "markdown",
   "id": "d02e5687",
   "metadata": {},
   "source": [
    "### Possible insights that can be uncovered from this dataset"
   ]
  },
  {
   "cell_type": "markdown",
   "id": "b67347a3",
   "metadata": {},
   "source": [
    "- Titles volume by Year\n",
    "- What type has the largest number of titles\n",
    "- Which ratings prevail among Disney Plus titles\n",
    "- What is the Movie to TV Show ratio on Disney Plus and how it changes over the years\n",
    "- What is the share of Animated movies/shows on Disney Plus\n",
    "- What is the average Movie duration on Disney Plus"
   ]
  },
  {
   "cell_type": "markdown",
   "id": "fba341cc",
   "metadata": {},
   "source": [
    "### Checking Nulls in columns"
   ]
  },
  {
   "cell_type": "code",
   "execution_count": 13,
   "id": "65340cc3",
   "metadata": {},
   "outputs": [
    {
     "data": {
      "text/plain": [
       "show_id           0\n",
       "type              0\n",
       "title             0\n",
       "director        473\n",
       "cast            190\n",
       "country         219\n",
       "date_added        3\n",
       "release_year      0\n",
       "rating            3\n",
       "duration          0\n",
       "listed_in         0\n",
       "description       0\n",
       "dtype: int64"
      ]
     },
     "execution_count": 13,
     "metadata": {},
     "output_type": "execute_result"
    }
   ],
   "source": [
    "dataset.isnull().sum()"
   ]
  },
  {
   "cell_type": "markdown",
   "id": "c6784d2d",
   "metadata": {},
   "source": [
    "Some records have Nulls in 5 columns (director, cast, country, date_added, rating). Since we're not going to use cast or country in our analysis we can remove those columns from the dataset. As for director column we'll create separate sub-dataset with records with value in this column.\n",
    "There are 3 records with missing date_added and 3 records with missing rating. Since it is a very small share of total records (1450) we can safely drop those rows."
   ]
  },
  {
   "cell_type": "code",
   "execution_count": 26,
   "id": "228291e9",
   "metadata": {},
   "outputs": [
    {
     "data": {
      "text/plain": [
       "show_id           0\n",
       "type              0\n",
       "title             0\n",
       "director        473\n",
       "date_added        3\n",
       "release_year      0\n",
       "rating            3\n",
       "duration          0\n",
       "listed_in         0\n",
       "description       0\n",
       "dtype: int64"
      ]
     },
     "execution_count": 26,
     "metadata": {},
     "output_type": "execute_result"
    }
   ],
   "source": [
    "##Dropping columns 'cast' and 'country' and taking only rows where there is no Null in 'date_added' and 'rating'\n",
    "df = dataset.drop(['cast', 'country'], axis=1)\n",
    "df.dropna(subset = ['date_added', 'rating'])\n",
    "df.isnull().sum()"
   ]
  },
  {
   "cell_type": "code",
   "execution_count": 27,
   "id": "b2079005",
   "metadata": {},
   "outputs": [
    {
     "data": {
      "text/plain": [
       "show_id           0\n",
       "type              0\n",
       "title             0\n",
       "director        473\n",
       "date_added        3\n",
       "release_year      0\n",
       "rating            3\n",
       "duration          0\n",
       "listed_in         0\n",
       "description       0\n",
       "dtype: int64"
      ]
     },
     "execution_count": 27,
     "metadata": {},
     "output_type": "execute_result"
    }
   ],
   "source": [
    "df.dropna(subset = ['date_added', 'rating'])\n",
    "df.isnull().sum()"
   ]
  },
  {
   "cell_type": "markdown",
   "id": "ffbdb8af",
   "metadata": {},
   "source": [
    "### First, let's answer the question \"What is the number of titles added each year?\""
   ]
  },
  {
   "cell_type": "code",
   "execution_count": null,
   "id": "24de2f69",
   "metadata": {},
   "outputs": [],
   "source": []
  }
 ],
 "metadata": {
  "kernelspec": {
   "display_name": "Python 3 (ipykernel)",
   "language": "python",
   "name": "python3"
  },
  "language_info": {
   "codemirror_mode": {
    "name": "ipython",
    "version": 3
   },
   "file_extension": ".py",
   "mimetype": "text/x-python",
   "name": "python",
   "nbconvert_exporter": "python",
   "pygments_lexer": "ipython3",
   "version": "3.10.6"
  }
 },
 "nbformat": 4,
 "nbformat_minor": 5
}
